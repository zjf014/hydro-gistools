{
 "cells": [
  {
   "cell_type": "markdown",
   "id": "02469887-e6c3-40b7-b7e5-60e4cf2c0829",
   "metadata": {},
   "source": [
    "本文通过调用watershed.py中的watershed方法利用DEM批量生成点的流域边界"
   ]
  },
  {
   "cell_type": "code",
   "execution_count": null,
   "id": "335eadb3",
   "metadata": {},
   "outputs": [],
   "source": [
    "!pip install wis-processor"
   ]
  },
  {
   "cell_type": "code",
   "execution_count": null,
   "id": "1082e119-2d80-4ca6-a76c-ac6c000f6fa8",
   "metadata": {},
   "outputs": [],
   "source": [
    "from wis_processor import watershed"
   ]
  },
  {
   "cell_type": "markdown",
   "id": "9014c4fd-58f5-4717-9dc3-0e21dfbb7500",
   "metadata": {},
   "source": [
    "方法参数，注意文件路径均要使用绝对路径\n",
    "+ dem: 流域的DEM数据，注意需要先投影到平面坐标\n",
    "+ src: 源图层，即流域内的点图层，注意应与DEM数据同坐标系\n",
    "+ des: 目标图层，即流域边界图层，数据类型为polygon\n",
    "+ onlyResult: True只保留最终计算结果，删除过程数据；False在temp目录下保留计算过程数据x"
   ]
  },
  {
   "cell_type": "code",
   "execution_count": null,
   "id": "e43d336a-0689-4420-895b-cef41dbcfd86",
   "metadata": {},
   "outputs": [],
   "source": [
    "dem='dem_projected.tif'\n",
    "src='point_projected.shp'\n",
    "des='watershed_polygon.shp'"
   ]
  },
  {
   "cell_type": "markdown",
   "id": "c9231d2d-1327-4838-8a49-1a87b59bf67d",
   "metadata": {},
   "source": [
    "watershed方法包含以下过程：\n",
    "1. fill_missing_data: 填缺\n",
    "2. fill_depressions: 填洼\n",
    "3. d8_pointer: 流向\n",
    "4. d8_flow_accumulation: 流量累积\n",
    "5. strahler_order_basins: 河网分支分级\n",
    "6. snap_pour_points: 出水口校正\n",
    "7. watershed: 生成子流域\n",
    "8. raster_to_vector_polygons: 转化为矢量图层"
   ]
  },
  {
   "cell_type": "code",
   "execution_count": null,
   "id": "99c8da56-7e34-4906-9cd1-b6a477f9e09b",
   "metadata": {},
   "outputs": [],
   "source": [
    "watershed(dem,src,des)"
   ]
  },
  {
   "cell_type": "markdown",
   "id": "9f07ec9f-09b6-458b-88e4-13b00a98790d",
   "metadata": {},
   "source": [
    "上面步骤已经得到插值后的栅格图层\n",
    "\n",
    "下面将输入、输出图层通过leafmap显示在地图上\n",
    "\n",
    "注意：\n",
    "- 输入、输出图层最好为wgs1984坐标或其投影坐标\n",
    "- shape数据可以直接添加，但建议通过shp_to_gdf方法先转换为GeoDataFrame格式，不容易出错且可自动缩放至图层范围\n",
    "- 栅格数据建议输出为Tiff格式，默认为灰度图像，可指定其渲染颜色"
   ]
  },
  {
   "cell_type": "code",
   "execution_count": null,
   "id": "b1c2c4b6-4ac8-41df-ab86-9bf3f76d869e",
   "metadata": {},
   "outputs": [],
   "source": [
    "from leafmap import Map\n",
    "from leafmap.common import shp_to_gdf\n",
    "\n",
    "m=Map()\n",
    "m.add_gdf(shp_to_gdf(src),'point')\n",
    "m.add_gdf(shp_to_gdf(des),'watershed')\n",
    "m"
   ]
  }
 ],
 "metadata": {
  "kernelspec": {
   "display_name": "Python 3.9.13 ('processor')",
   "language": "python",
   "name": "python3"
  },
  "language_info": {
   "codemirror_mode": {
    "name": "ipython",
    "version": 3
   },
   "file_extension": ".py",
   "mimetype": "text/x-python",
   "name": "python",
   "nbconvert_exporter": "python",
   "pygments_lexer": "ipython3",
   "version": "3.9.13"
  },
  "vscode": {
   "interpreter": {
    "hash": "b1b5cd431e1c28cbd63babd3ff9bc4188d9d6ccc84cd82f051dc797092d83723"
   }
  }
 },
 "nbformat": 4,
 "nbformat_minor": 5
}
