{
 "cells": [
  {
   "cell_type": "markdown",
   "id": "f9b20787",
   "metadata": {},
   "source": [
    "## 方法1：简单泰森多边形"
   ]
  },
  {
   "cell_type": "code",
   "execution_count": null,
   "id": "3b3cccea",
   "metadata": {},
   "outputs": [],
   "source": [
    "!pip install wis-processor"
   ]
  },
  {
   "cell_type": "code",
   "execution_count": null,
   "id": "b8d44d4c-2a0b-4768-8824-5b6f0aac770b",
   "metadata": {},
   "outputs": [],
   "source": [
    "from wis_processor import voronoi"
   ]
  },
  {
   "cell_type": "code",
   "execution_count": null,
   "id": "01510d16-247c-4dd9-86bb-30ea81af082f",
   "metadata": {},
   "outputs": [],
   "source": [
    "src='point.shp'\n",
    "des='voronoi_polygon.shp'"
   ]
  },
  {
   "cell_type": "code",
   "execution_count": null,
   "id": "4aef33ef-39a0-4655-82cd-508d5563b9d3",
   "metadata": {},
   "outputs": [],
   "source": [
    "voronoi.voronoi_from_shp(src,des)"
   ]
  },
  {
   "cell_type": "markdown",
   "id": "8ceeb4c0",
   "metadata": {},
   "source": [
    "## 方法2：基于输入范围创建泰森多边形"
   ]
  },
  {
   "cell_type": "code",
   "execution_count": null,
   "id": "57237aae",
   "metadata": {},
   "outputs": [],
   "source": [
    "import sys\n",
    "sys.path.append('../../')\n",
    "\n",
    "from script.voronoi import bounded_voronoi\n",
    "import geopandas as gpd"
   ]
  },
  {
   "cell_type": "code",
   "execution_count": null,
   "id": "4cf753b3",
   "metadata": {},
   "outputs": [],
   "source": [
    "points=gpd.read_file('point.shp')\n",
    "regions=gpd.read_file('regions.shp')"
   ]
  },
  {
   "cell_type": "code",
   "execution_count": null,
   "id": "9cca53f2",
   "metadata": {},
   "outputs": [],
   "source": [
    "vor_polys=bounded_voronoi(points,regions.geometry) \n",
    "# vor_polys=bounded_voronoi(points,regions[0].geometry)   # 也可以传入图层中的某一个多边形要素\n",
    "\n",
    "vor_polys"
   ]
  },
  {
   "cell_type": "markdown",
   "id": "6ca61f81-7d21-411c-9d6a-c12753ed4722",
   "metadata": {},
   "source": [
    "上面步骤已经得到泰森多边形图层，即output.shp\n",
    "\n",
    "下面将输入、输出图层通过leafmap显示在地图上\n",
    "\n",
    "注意：\n",
    "- 输入、输出图层最好为wgs1984坐标或其投影坐标\n",
    "- shape数据可以直接添加，但建议通过shp_to_gdf方法先转换为GeoDataFrame格式，不容易出错且可自动缩放至图层范围\n",
    "- 栅格数据建议输出为Tiff格式，默认为灰度图像，可指定其渲染颜色"
   ]
  },
  {
   "cell_type": "code",
   "execution_count": null,
   "id": "d9509095-2d2b-4484-ba4e-cbecd7cfd0db",
   "metadata": {},
   "outputs": [],
   "source": [
    "from leafmap import Map\n",
    "from leafmap.common import shp_to_gdf\n",
    "\n",
    "m=Map()\n",
    "m.add_gdf(shp_to_gdf(des),'voronoi')\n",
    "m.add_gdf(shp_to_gdf(src),'stations')\n",
    "m"
   ]
  }
 ],
 "metadata": {
  "kernelspec": {
   "display_name": "Python 3.9.12 ('processor')",
   "language": "python",
   "name": "python3"
  },
  "language_info": {
   "codemirror_mode": {
    "name": "ipython",
    "version": 3
   },
   "file_extension": ".py",
   "mimetype": "text/x-python",
   "name": "python",
   "nbconvert_exporter": "python",
   "pygments_lexer": "ipython3",
   "version": "3.9.12"
  },
  "vscode": {
   "interpreter": {
    "hash": "b1b5cd431e1c28cbd63babd3ff9bc4188d9d6ccc84cd82f051dc797092d83723"
   }
  }
 },
 "nbformat": 4,
 "nbformat_minor": 5
}
