{
 "cells": [
  {
   "cell_type": "markdown",
   "id": "3838826a",
   "metadata": {},
   "source": [
    "通过pip安装wis-processor包"
   ]
  },
  {
   "cell_type": "code",
   "execution_count": 1,
   "id": "15a4071b-e970-48b1-af4a-7764e3956842",
   "metadata": {},
   "outputs": [],
   "source": [
    "!pip install wis-processor"
   ]
  },
  {
   "cell_type": "markdown",
   "id": "9646fba8",
   "metadata": {},
   "source": [
    "导入kriging"
   ]
  },
  {
   "cell_type": "code",
   "execution_count": 2,
   "id": "e7a43481-0a75-4003-a0d3-56c260f8b14d",
   "metadata": {},
   "outputs": [],
   "source": [
    "from wis_processor import kriging"
   ]
  },
  {
   "cell_type": "markdown",
   "id": "6fcfba6b",
   "metadata": {},
   "source": [
    "定义输入和输出图层"
   ]
  },
  {
   "cell_type": "code",
   "execution_count": 3,
   "id": "2e7d18f7-2e0e-4f36-abfd-7ff635720587",
   "metadata": {
    "tags": []
   },
   "outputs": [],
   "source": [
    "src='point615.shp'\n",
    "des='ok615.tif'"
   ]
  },
  {
   "cell_type": "markdown",
   "id": "bd6c9c64",
   "metadata": {},
   "source": [
    "进行普通克里金插值"
   ]
  },
  {
   "cell_type": "code",
   "execution_count": 5,
   "id": "dc605523-a83a-4346-994a-dbdc5c0cdda7",
   "metadata": {},
   "outputs": [],
   "source": [
    "kriging.ok(src,des,'rainfall',rows=101,columns=122,coordinates_type='geographic',n_closest_points=12) "
   ]
  },
  {
   "cell_type": "markdown",
   "id": "84fff0e4",
   "metadata": {},
   "source": [
    "在leafmap中查看结果"
   ]
  },
  {
   "cell_type": "code",
   "execution_count": null,
   "id": "8bc3d350-8d92-4362-af75-b3a5d78e4769",
   "metadata": {},
   "outputs": [],
   "source": [
    "from leafmap import Map\n",
    "from leafmap.common import shp_to_gdf\n",
    "\n",
    "m=Map()\n",
    "m.add_gdf(shp_to_gdf(src),'point')\n",
    "m.add_geotiff(des,palette='CMRmap')\n",
    "m"
   ]
  }
 ],
 "metadata": {
  "kernelspec": {
   "display_name": "Python 3.9.12 ('processor')",
   "language": "python",
   "name": "python3"
  },
  "language_info": {
   "codemirror_mode": {
    "name": "ipython",
    "version": 3
   },
   "file_extension": ".py",
   "mimetype": "text/x-python",
   "name": "python",
   "nbconvert_exporter": "python",
   "pygments_lexer": "ipython3",
   "version": "3.9.13"
  },
  "vscode": {
   "interpreter": {
    "hash": "b1b5cd431e1c28cbd63babd3ff9bc4188d9d6ccc84cd82f051dc797092d83723"
   }
  }
 },
 "nbformat": 4,
 "nbformat_minor": 5
}
